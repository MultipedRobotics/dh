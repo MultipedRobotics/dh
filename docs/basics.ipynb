{
 "cells": [
  {
   "cell_type": "code",
   "execution_count": 1,
   "metadata": {},
   "outputs": [
    {
     "name": "stdout",
     "output_type": "stream",
     "text": [
      "0.1.2\n"
     ]
    }
   ],
   "source": [
    "import numpy as np\n",
    "np.set_printoptions(suppress=True)\n",
    "\n",
    "import mdh\n",
    "from mdh.link import mdh_params, JointType\n",
    "from mdh.kinematic_chain import KinematicChain\n",
    "from mdh.robots import puma560\n",
    "\n",
    "import pandas\n",
    "\n",
    "print(mdh.__version__)"
   ]
  },
  {
   "cell_type": "code",
   "execution_count": 2,
   "metadata": {},
   "outputs": [
    {
     "data": {
      "text/html": [
       "<div>\n",
       "<style scoped>\n",
       "    .dataframe tbody tr th:only-of-type {\n",
       "        vertical-align: middle;\n",
       "    }\n",
       "\n",
       "    .dataframe tbody tr th {\n",
       "        vertical-align: top;\n",
       "    }\n",
       "\n",
       "    .dataframe thead th {\n",
       "        text-align: right;\n",
       "    }\n",
       "</style>\n",
       "<table border=\"1\" class=\"dataframe\">\n",
       "  <thead>\n",
       "    <tr style=\"text-align: right;\">\n",
       "      <th></th>\n",
       "      <th>alpha</th>\n",
       "      <th>a</th>\n",
       "      <th>theta</th>\n",
       "      <th>d</th>\n",
       "      <th>type</th>\n",
       "    </tr>\n",
       "  </thead>\n",
       "  <tbody>\n",
       "    <tr>\n",
       "      <th>0</th>\n",
       "      <td>0.000000</td>\n",
       "      <td>0.0000</td>\n",
       "      <td>0.0</td>\n",
       "      <td>0.0000</td>\n",
       "      <td>1</td>\n",
       "    </tr>\n",
       "    <tr>\n",
       "      <th>1</th>\n",
       "      <td>-1.570796</td>\n",
       "      <td>0.0000</td>\n",
       "      <td>0.0</td>\n",
       "      <td>0.0000</td>\n",
       "      <td>1</td>\n",
       "    </tr>\n",
       "    <tr>\n",
       "      <th>2</th>\n",
       "      <td>0.000000</td>\n",
       "      <td>0.6127</td>\n",
       "      <td>0.0</td>\n",
       "      <td>0.0000</td>\n",
       "      <td>1</td>\n",
       "    </tr>\n",
       "    <tr>\n",
       "      <th>3</th>\n",
       "      <td>0.000000</td>\n",
       "      <td>0.5716</td>\n",
       "      <td>0.0</td>\n",
       "      <td>0.1639</td>\n",
       "      <td>1</td>\n",
       "    </tr>\n",
       "    <tr>\n",
       "      <th>4</th>\n",
       "      <td>-1.570796</td>\n",
       "      <td>0.0000</td>\n",
       "      <td>0.0</td>\n",
       "      <td>0.1157</td>\n",
       "      <td>1</td>\n",
       "    </tr>\n",
       "  </tbody>\n",
       "</table>\n",
       "</div>"
      ],
      "text/plain": [
       "      alpha       a  theta       d  type\n",
       "0  0.000000  0.0000    0.0  0.0000     1\n",
       "1 -1.570796  0.0000    0.0  0.0000     1\n",
       "2  0.000000  0.6127    0.0  0.0000     1\n",
       "3  0.000000  0.5716    0.0  0.1639     1\n",
       "4 -1.570796  0.0000    0.0  0.1157     1"
      ]
     },
     "execution_count": 2,
     "metadata": {},
     "output_type": "execute_result"
    }
   ],
   "source": [
    "params = puma560()\n",
    "df = pandas.DataFrame(params)\n",
    "df.head()"
   ]
  },
  {
   "cell_type": "code",
   "execution_count": 3,
   "metadata": {},
   "outputs": [
    {
     "name": "stdout",
     "output_type": "stream",
     "text": [
      "1: alpha:  0.0deg a:  0.0m theta: 0e+00deg d:  0.0\n",
      "1: alpha: -0.0deg a:  0.0m theta: 0e+00deg d:  0.0\n",
      "1: alpha:  0.0deg a:  0.6m theta: 0e+00deg d:  0.0\n",
      "1: alpha:  0.0deg a:  0.6m theta: 0e+00deg d:  0.2\n",
      "1: alpha: -0.0deg a:  0.0m theta: 0e+00deg d:  0.1\n",
      "1: alpha:  0.0deg a:  0.0m theta: 0.05deg d:  0.1\n"
     ]
    }
   ],
   "source": [
    "puma = KinematicChain.from_parameters(params)\n",
    "for l in puma:\n",
    "    print(l)"
   ]
  },
  {
   "cell_type": "code",
   "execution_count": 4,
   "metadata": {},
   "outputs": [
    {
     "name": "stdout",
     "output_type": "stream",
     "text": [
      "Can't reach: [0.015, 0.015, 0.15]m\n"
     ]
    }
   ],
   "source": [
    "try:\n",
    "    rads = puma.inverse([.015,.015,.15])\n",
    "    # degs = np.rad2deg(rads)\n",
    "    print(rads)\n",
    "except mdh.UnReachable as e:\n",
    "    print(e)"
   ]
  },
  {
   "cell_type": "code",
   "execution_count": 5,
   "metadata": {},
   "outputs": [],
   "source": [
    "from scipy.spatial.transform import Rotation as R"
   ]
  },
  {
   "cell_type": "code",
   "execution_count": 8,
   "metadata": {},
   "outputs": [],
   "source": [
    "from math import pi, atan2"
   ]
  },
  {
   "cell_type": "code",
   "execution_count": 11,
   "metadata": {},
   "outputs": [
    {
     "name": "stdout",
     "output_type": "stream",
     "text": [
      "<scipy.spatial.transform.rotation.Rotation object at 0x7f6ed5e802d0>\n"
     ]
    }
   ],
   "source": [
    "r=R.from_euler('zyx', [-90,atan2(10,10)*180/pi,90], degrees=True)\n",
    "print(r)"
   ]
  },
  {
   "cell_type": "code",
   "execution_count": 17,
   "metadata": {},
   "outputs": [
    {
     "data": {
      "text/plain": [
       "array([-90.,  45.,  90.])"
      ]
     },
     "execution_count": 17,
     "metadata": {},
     "output_type": "execute_result"
    }
   ],
   "source": [
    "r.as_euler('zyx', degrees=True)"
   ]
  },
  {
   "cell_type": "code",
   "execution_count": 21,
   "metadata": {},
   "outputs": [
    {
     "data": {
      "text/plain": [
       "array([-90.00999997, -44.99999992,  89.99999979])"
      ]
     },
     "execution_count": 21,
     "metadata": {},
     "output_type": "execute_result"
    }
   ],
   "source": [
    "rr = [[  -0.00012341,    0.70710677,   -0.70710678],\n",
    " [   0.00012341,   -0.70710677,   -0.70710678],\n",
    " [  -0.99999998,   -0.00017453,    0.]]\n",
    "\n",
    "r = R.from_matrix(rr)\n",
    "r.as_euler('zyx', degrees=True)"
   ]
  },
  {
   "cell_type": "code",
   "execution_count": null,
   "metadata": {},
   "outputs": [],
   "source": []
  }
 ],
 "metadata": {
  "kernelspec": {
   "display_name": "Python 3",
   "language": "python",
   "name": "python3"
  },
  "language_info": {
   "codemirror_mode": {
    "name": "ipython",
    "version": 3
   },
   "file_extension": ".py",
   "mimetype": "text/x-python",
   "name": "python",
   "nbconvert_exporter": "python",
   "pygments_lexer": "ipython3",
   "version": "3.7.5"
  }
 },
 "nbformat": 4,
 "nbformat_minor": 4
}
